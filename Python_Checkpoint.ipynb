{
 "cells": [
  {
   "cell_type": "markdown",
   "id": "cf98c0e2",
   "metadata": {},
   "source": [
    "# Question 1\n",
    "\n",
    "Write a program that will find all numbers which are divisible by 7 but are not a multiple of 5, between 2000 and 3200 (both included). The numbers obtained should be printed in a list.\n",
    "\n",
    "Hint: Consider using the range(#begin, #end) method."
   ]
  },
  {
   "cell_type": "code",
   "execution_count": 7,
   "id": "1298fa44",
   "metadata": {},
   "outputs": [
    {
     "name": "stdout",
     "output_type": "stream",
     "text": [
      "[2002, 2009, 2016, 2023, 2037, 2044, 2051, 2058, 2072, 2079, 2086, 2093, 2107, 2114, 2121, 2128, 2142, 2149, 2156, 2163, 2177, 2184, 2191, 2198, 2212, 2219, 2226, 2233, 2247, 2254, 2261, 2268, 2282, 2289, 2296, 2303, 2317, 2324, 2331, 2338, 2352, 2359, 2366, 2373, 2387, 2394, 2401, 2408, 2422, 2429, 2436, 2443, 2457, 2464, 2471, 2478, 2492, 2499, 2506, 2513, 2527, 2534, 2541, 2548, 2562, 2569, 2576, 2583, 2597, 2604, 2611, 2618, 2632, 2639, 2646, 2653, 2667, 2674, 2681, 2688, 2702, 2709, 2716, 2723, 2737, 2744, 2751, 2758, 2772, 2779, 2786, 2793, 2807, 2814, 2821, 2828, 2842, 2849, 2856, 2863, 2877, 2884, 2891, 2898, 2912, 2919, 2926, 2933, 2947, 2954, 2961, 2968, 2982, 2989, 2996, 3003, 3017, 3024, 3031, 3038, 3052, 3059, 3066, 3073, 3087, 3094, 3101, 3108, 3122, 3129, 3136, 3143, 3157, 3164, 3171, 3178, 3192, 3199]\n"
     ]
    }
   ],
   "source": [
    "listA=[]\n",
    "for x in range(2000,3200):\n",
    "    if x%7==0:\n",
    "        if x%5!=0:\n",
    "            listA.append(x)\n",
    "print(listA)"
   ]
  },
  {
   "cell_type": "markdown",
   "id": "609802d5",
   "metadata": {},
   "source": [
    "# Question 2 \n",
    "\n",
    " Write a program that can compute the factorial of a given number. (The factorial of n is the product of all positive integers less than or equal to n.) For example: For factorial(5)= 5 x 4 x 3 x 2 x 1 the result is 120 (i.e. factorial (0)=1)."
   ]
  },
  {
   "cell_type": "code",
   "execution_count": 17,
   "id": "f38b8dae",
   "metadata": {},
   "outputs": [
    {
     "name": "stdout",
     "output_type": "stream",
     "text": [
      "Please enter a number3\n",
      "3\n",
      "2\n",
      "1\n",
      "6\n"
     ]
    }
   ],
   "source": [
    "y=1\n",
    "x=int(input(\"Please enter a number \"))\n",
    "for x in range(x,0,-1):\n",
    "    y*=x\n",
    "    print(x)\n",
    "print(y)"
   ]
  },
  {
   "cell_type": "markdown",
   "id": "e201518b",
   "metadata": {},
   "source": [
    "# Question 3 \n",
    "\n",
    "With a given integer number n, write a program to generate a dictionary that contains (i, i*i) such that is an integral number between 1 and n (both included). Then, the program should print the dictionary. Suppose the following input is supplied to the program: 8 Then, the output should be: {1: 1, 2: 4, 3: 9, 4: 16, 5: 25, 6: 36, 7: 49, 8: 64}  "
   ]
  },
  {
   "cell_type": "code",
   "execution_count": 8,
   "id": "23dbdd16",
   "metadata": {},
   "outputs": [
    {
     "name": "stdout",
     "output_type": "stream",
     "text": [
      "please enter an integer number (1 or more)7\n",
      "8\n",
      "{1: 1, 2: 4, 3: 9, 4: 16, 5: 25, 6: 36, 7: 49}\n"
     ]
    }
   ],
   "source": [
    "i=1\n",
    "MyDict = {i:i*i}\n",
    "n = int(input(\"please enter an integer number (1 or more) \"))\n",
    "while(i<=n):\n",
    "    MyDict[i]= i*i\n",
    "    i+=1\n",
    "print(i)\n",
    "print(MyDict)"
   ]
  },
  {
   "cell_type": "markdown",
   "id": "e7f32ee8",
   "metadata": {},
   "source": [
    "# Question 4 \n",
    "\n",
    "Given a non-empty string and an integral n, return a new string where the char at index n has been removed. The value of n will be a valid index of a char in the original string (i.e. n will be in the range 0..len(str)-1 inclusive). \n",
    "\n",
    "missing_char('kitten', 1) → 'ktten'    for example here we remove \"i\" which is located in the index 1\n",
    "\n",
    "missing_char('kitten', 0) → 'itten'   here we remove \"k\" which is in the index 0\n",
    "\n",
    "missing_char('kitten', 4) → 'kittn'   here we remove \"e\" which is in the index 4"
   ]
  },
  {
   "cell_type": "code",
   "execution_count": 20,
   "id": "38cfc961",
   "metadata": {},
   "outputs": [
    {
     "name": "stdout",
     "output_type": "stream",
     "text": [
      "Please enter a string flank\n",
      "Please enter the index you want to remove 4\n",
      "flan\n"
     ]
    }
   ],
   "source": [
    "mystr=\"\"\n",
    "word = input(\"Please enter a string \")\n",
    "n = int(input(\"Please enter the index you want to remove \"))\n",
    "for i in word:\n",
    "    if i == word[n]:\n",
    "        continue\n",
    "    mystr+= i\n",
    "print(mystr)"
   ]
  },
  {
   "cell_type": "markdown",
   "id": "de2aec1d",
   "metadata": {},
   "source": [
    "# Question 5 \n",
    "\n",
    "Write a NumPy program to convert a NumPy array into a Python list structure.\n",
    "\n",
    "Expected output: \n",
    "\n",
    "Original array elements: [[0 1] [2 3] [4 5]] \n",
    "\n",
    "Array to list: [[0, 1], [2, 3], [4, 5]] \n",
    " \n",
    "\n",
    "Hint: We can use the to_list() function to ensure the conversion."
   ]
  },
  {
   "cell_type": "code",
   "execution_count": 42,
   "id": "e3a79d26",
   "metadata": {},
   "outputs": [
    {
     "name": "stdout",
     "output_type": "stream",
     "text": [
      "Original array elements: \n",
      " [[0 1]\n",
      " [2 3]\n",
      " [4 5]]\n",
      "Array to list: [[0, 1], [2, 3], [4, 5]]\n"
     ]
    }
   ],
   "source": [
    "import numpy as np\n",
    "array = np.array([[0,1],[2,3],[4,5]])\n",
    "print(\"Original array elements: \\n\",array)\n",
    "array=array.tolist()\n",
    "print(\"Array to list:\",array)"
   ]
  },
  {
   "cell_type": "markdown",
   "id": "65acfc2b",
   "metadata": {},
   "source": [
    "# Question 6\n",
    "\n",
    "Write a NumPy program to compute the covariance matrix of two given arrays. \n",
    "\n",
    "Original array1: [0 1 2] \n",
    "\n",
    "Original array2: [2 1 0] \n",
    "\n",
    "Covariance matrix of the said arrays: [[ 1. -1.] [-1. 1.]]\n",
    " \n",
    "\n",
    "Hint: We can use the np.cov() function to calculate the covariance between these two arrays"
   ]
  },
  {
   "cell_type": "code",
   "execution_count": 45,
   "id": "28d87d3c",
   "metadata": {},
   "outputs": [
    {
     "name": "stdout",
     "output_type": "stream",
     "text": [
      "[[ 1. -1.]\n",
      " [-1.  1.]]\n"
     ]
    }
   ],
   "source": [
    "import numpy as np\n",
    "arr1 = np.array([0,1,2])\n",
    "arr2 = np.array([2,1,0])\n",
    "arr = np.cov(arr1,arr2)\n",
    "print(arr)"
   ]
  },
  {
   "cell_type": "markdown",
   "id": "cfc1611a",
   "metadata": {},
   "source": [
    "# Question 7\n",
    "\n",
    "Question: Write a program that calculates and prints the value according to the given formula: \n",
    "Q= Square root of [(2 * C * D)/H] \n",
    "\n",
    "The following are the fixed values of C and H: C is 50. H is 30. \n",
    "\n",
    "D is the variable whose values should be input into your program in a comma-separated sequence. (That means D contains more than value)\n",
    "\n",
    "Example: Let's assume the following comma-separated input sequence is given to the program: 100,150,180 The output of the program should be 18,22,24 \n",
    "\n",
    "To further explain this, we will obtain a result for each value of D:  \n",
    "Q1= Square root of [(2 * C * 100)/H] =18, \n",
    "Q2= Square root of [(2 * C * 150)/H] = 22 and \n",
    "Q3 = Square root of [(2 * C * 180)/H]  = 24\n",
    "\n",
    "Hint: If the output received is in decimal form, it should be rounded off to its nearest value. For example, if the output received is 26.0, it should be printed as 26. In case of input data being supplied to the question, it should be assumed to be a console input. "
   ]
  },
  {
   "cell_type": "code",
   "execution_count": 119,
   "id": "2452c99b",
   "metadata": {},
   "outputs": [
    {
     "name": "stdout",
     "output_type": "stream",
     "text": [
      "Enter the values separated by comma  100,150,180\n",
      "[100, 150, 180]\n",
      "[18, 22, 24]\n"
     ]
    }
   ],
   "source": [
    "import math\n",
    "import numpy as np\n",
    "D=str(input(\"Enter the values separated by comma  \"))\n",
    "MyList=[]\n",
    "MyResult=[]\n",
    "n=\"\"\n",
    "C,H=50,30\n",
    "for i in D:\n",
    "    if i==',':\n",
    "        MyList.append(int(n))\n",
    "        n=\"\"\n",
    "        continue\n",
    "    n+=i\n",
    "MyList.append(int(n))\n",
    "print(MyList)\n",
    "for x in MyList:\n",
    "    result = math.sqrt((2*C*x)/H)\n",
    "    result= round(result)\n",
    "    MyResult.append(int(result))\n",
    "print(MyResult)"
   ]
  },
  {
   "cell_type": "code",
   "execution_count": null,
   "id": "2ef5fb77",
   "metadata": {},
   "outputs": [],
   "source": []
  }
 ],
 "metadata": {
  "kernelspec": {
   "display_name": "Python 3",
   "language": "python",
   "name": "python3"
  }
 },
 "nbformat": 4,
 "nbformat_minor": 5
}
